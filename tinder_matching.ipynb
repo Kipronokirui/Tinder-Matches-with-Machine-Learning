{
 "cells": [
  {
   "cell_type": "code",
   "execution_count": 2,
   "id": "fa9baecd",
   "metadata": {},
   "outputs": [
    {
     "name": "stdout",
     "output_type": "stream",
     "text": [
      "Collecting category_encoders\n",
      "  Downloading category_encoders-2.6.3-py2.py3-none-any.whl (81 kB)\n",
      "     --------------------------------------- 81.9/81.9 kB 37.6 kB/s eta 0:00:00\n",
      "Requirement already satisfied: numpy>=1.14.0 in c:\\users\\my pc\\anaconda3\\lib\\site-packages (from category_encoders) (1.21.5)\n",
      "Requirement already satisfied: scipy>=1.0.0 in c:\\users\\my pc\\anaconda3\\lib\\site-packages (from category_encoders) (1.9.1)\n",
      "Requirement already satisfied: statsmodels>=0.9.0 in c:\\users\\my pc\\anaconda3\\lib\\site-packages (from category_encoders) (0.13.2)\n",
      "Requirement already satisfied: patsy>=0.5.1 in c:\\users\\my pc\\anaconda3\\lib\\site-packages (from category_encoders) (0.5.2)\n",
      "Requirement already satisfied: scikit-learn>=0.20.0 in c:\\users\\my pc\\anaconda3\\lib\\site-packages (from category_encoders) (1.0.2)\n",
      "Requirement already satisfied: pandas>=1.0.5 in c:\\users\\my pc\\anaconda3\\lib\\site-packages (from category_encoders) (1.4.4)\n",
      "Requirement already satisfied: pytz>=2020.1 in c:\\users\\my pc\\anaconda3\\lib\\site-packages (from pandas>=1.0.5->category_encoders) (2022.1)\n",
      "Requirement already satisfied: python-dateutil>=2.8.1 in c:\\users\\my pc\\anaconda3\\lib\\site-packages (from pandas>=1.0.5->category_encoders) (2.8.2)\n",
      "Requirement already satisfied: six in c:\\users\\my pc\\anaconda3\\lib\\site-packages (from patsy>=0.5.1->category_encoders) (1.16.0)\n",
      "Requirement already satisfied: joblib>=0.11 in c:\\users\\my pc\\anaconda3\\lib\\site-packages (from scikit-learn>=0.20.0->category_encoders) (1.1.0)\n",
      "Requirement already satisfied: threadpoolctl>=2.0.0 in c:\\users\\my pc\\anaconda3\\lib\\site-packages (from scikit-learn>=0.20.0->category_encoders) (2.2.0)\n",
      "Requirement already satisfied: packaging>=21.3 in c:\\users\\my pc\\anaconda3\\lib\\site-packages (from statsmodels>=0.9.0->category_encoders) (21.3)\n",
      "Requirement already satisfied: pyparsing!=3.0.5,>=2.0.2 in c:\\users\\my pc\\anaconda3\\lib\\site-packages (from packaging>=21.3->statsmodels>=0.9.0->category_encoders) (3.0.9)\n",
      "Installing collected packages: category_encoders\n",
      "Successfully installed category_encoders-2.6.3\n"
     ]
    }
   ],
   "source": [
    "!pip install category_encoders"
   ]
  },
  {
   "cell_type": "code",
   "execution_count": 3,
   "id": "773b344a",
   "metadata": {},
   "outputs": [],
   "source": [
    "import numpy as np  \n",
    "import pandas as pd  \n",
    "import matplotlib.pyplot as plt  \n",
    "import seaborn as sns  \n",
    "sns.set_style(\"darkgrid\", \n",
    "              {\"grid.color\": \".6\", \n",
    "               \"grid.linestyle\": \":\"}) \n",
    "import category_encoders as ce \n",
    "from sklearn.decomposition import TruncatedSVD \n",
    "from sklearn.feature_extraction.text import TfidfVectorizer \n",
    "from sklearn.metrics.pairwise import cosine_similarity"
   ]
  },
  {
   "cell_type": "code",
   "execution_count": 5,
   "id": "33e7b29b",
   "metadata": {},
   "outputs": [],
   "source": [
    "tinder_df = pd.read_csv('tinder_data.csv')"
   ]
  },
  {
   "cell_type": "code",
   "execution_count": 6,
   "id": "8cd8c358",
   "metadata": {},
   "outputs": [
    {
     "data": {
      "text/html": [
       "<div>\n",
       "<style scoped>\n",
       "    .dataframe tbody tr th:only-of-type {\n",
       "        vertical-align: middle;\n",
       "    }\n",
       "\n",
       "    .dataframe tbody tr th {\n",
       "        vertical-align: top;\n",
       "    }\n",
       "\n",
       "    .dataframe thead th {\n",
       "        text-align: right;\n",
       "    }\n",
       "</style>\n",
       "<table border=\"1\" class=\"dataframe\">\n",
       "  <thead>\n",
       "    <tr style=\"text-align: right;\">\n",
       "      <th></th>\n",
       "      <th>user_id</th>\n",
       "      <th>username</th>\n",
       "      <th>age</th>\n",
       "      <th>status</th>\n",
       "      <th>sex</th>\n",
       "      <th>orientation</th>\n",
       "      <th>drinks</th>\n",
       "      <th>drugs</th>\n",
       "      <th>height</th>\n",
       "      <th>job</th>\n",
       "      <th>location</th>\n",
       "      <th>pets</th>\n",
       "      <th>smokes</th>\n",
       "      <th>language</th>\n",
       "      <th>new_languages</th>\n",
       "      <th>body_profile</th>\n",
       "      <th>education_level</th>\n",
       "      <th>dropped_out</th>\n",
       "      <th>bio</th>\n",
       "      <th>location_preference</th>\n",
       "    </tr>\n",
       "  </thead>\n",
       "  <tbody>\n",
       "    <tr>\n",
       "      <th>0</th>\n",
       "      <td>fffe3100</td>\n",
       "      <td>Edith Lopez</td>\n",
       "      <td>27</td>\n",
       "      <td>single</td>\n",
       "      <td>f</td>\n",
       "      <td>gay</td>\n",
       "      <td>socially</td>\n",
       "      <td>never</td>\n",
       "      <td>66.0</td>\n",
       "      <td>medicine / health</td>\n",
       "      <td>oakland, california</td>\n",
       "      <td>likes dogs and likes cats</td>\n",
       "      <td>no</td>\n",
       "      <td>english (fluently), spanish (poorly), sign lan...</td>\n",
       "      <td>interested</td>\n",
       "      <td>athletic</td>\n",
       "      <td>4.0</td>\n",
       "      <td>no</td>\n",
       "      <td>bottom line i love life! i work hard and i lov...</td>\n",
       "      <td>same state</td>\n",
       "    </tr>\n",
       "    <tr>\n",
       "      <th>1</th>\n",
       "      <td>fffe3200</td>\n",
       "      <td>Travis Young</td>\n",
       "      <td>26</td>\n",
       "      <td>single</td>\n",
       "      <td>m</td>\n",
       "      <td>gay</td>\n",
       "      <td>socially</td>\n",
       "      <td>never</td>\n",
       "      <td>68.0</td>\n",
       "      <td>other</td>\n",
       "      <td>pleasant hill, california</td>\n",
       "      <td>likes dogs</td>\n",
       "      <td>no</td>\n",
       "      <td>english (fluently), tagalog (okay), french (po...</td>\n",
       "      <td>interested</td>\n",
       "      <td>fit</td>\n",
       "      <td>3.0</td>\n",
       "      <td>no</td>\n",
       "      <td>i'm a straightforward, genuine, fun loving (i'...</td>\n",
       "      <td>anywhere</td>\n",
       "    </tr>\n",
       "    <tr>\n",
       "      <th>2</th>\n",
       "      <td>fffe3300</td>\n",
       "      <td>Agnes Smith</td>\n",
       "      <td>20</td>\n",
       "      <td>seeing someone</td>\n",
       "      <td>f</td>\n",
       "      <td>bisexual</td>\n",
       "      <td>socially</td>\n",
       "      <td>sometimes</td>\n",
       "      <td>69.0</td>\n",
       "      <td>other</td>\n",
       "      <td>oakland, california</td>\n",
       "      <td>has dogs and likes cats</td>\n",
       "      <td>sometimes</td>\n",
       "      <td>english (fluently), sign language (poorly), fr...</td>\n",
       "      <td>interested</td>\n",
       "      <td>fit</td>\n",
       "      <td>2.0</td>\n",
       "      <td>no</td>\n",
       "      <td>mmmmm yummy tacosss. yoga is where it's at. i ...</td>\n",
       "      <td>same city</td>\n",
       "    </tr>\n",
       "    <tr>\n",
       "      <th>3</th>\n",
       "      <td>fffe3400</td>\n",
       "      <td>Salvador Klaver</td>\n",
       "      <td>27</td>\n",
       "      <td>single</td>\n",
       "      <td>m</td>\n",
       "      <td>bisexual</td>\n",
       "      <td>socially</td>\n",
       "      <td>sometimes</td>\n",
       "      <td>68.0</td>\n",
       "      <td>computer / hardware / software</td>\n",
       "      <td>daly city, california</td>\n",
       "      <td>likes dogs and likes cats</td>\n",
       "      <td>no</td>\n",
       "      <td>english</td>\n",
       "      <td>not interested</td>\n",
       "      <td>average</td>\n",
       "      <td>3.0</td>\n",
       "      <td>no</td>\n",
       "      <td>i'm a stealth geek. that special mix of techni...</td>\n",
       "      <td>same city</td>\n",
       "    </tr>\n",
       "    <tr>\n",
       "      <th>4</th>\n",
       "      <td>fffe3500</td>\n",
       "      <td>Elana Sewell</td>\n",
       "      <td>22</td>\n",
       "      <td>single</td>\n",
       "      <td>f</td>\n",
       "      <td>bisexual</td>\n",
       "      <td>often</td>\n",
       "      <td>sometimes</td>\n",
       "      <td>68.0</td>\n",
       "      <td>other</td>\n",
       "      <td>oakland, california</td>\n",
       "      <td>likes dogs and likes cats</td>\n",
       "      <td>yes</td>\n",
       "      <td>english</td>\n",
       "      <td>not interested</td>\n",
       "      <td>average</td>\n",
       "      <td>2.0</td>\n",
       "      <td>yes</td>\n",
       "      <td>with the whisper of the wind i was weaved into...</td>\n",
       "      <td>same city</td>\n",
       "    </tr>\n",
       "  </tbody>\n",
       "</table>\n",
       "</div>"
      ],
      "text/plain": [
       "    user_id         username  age          status sex orientation    drinks  \\\n",
       "0  fffe3100      Edith Lopez   27          single   f         gay  socially   \n",
       "1  fffe3200     Travis Young   26          single   m         gay  socially   \n",
       "2  fffe3300      Agnes Smith   20  seeing someone   f    bisexual  socially   \n",
       "3  fffe3400  Salvador Klaver   27          single   m    bisexual  socially   \n",
       "4  fffe3500     Elana Sewell   22          single   f    bisexual     often   \n",
       "\n",
       "       drugs  height                             job  \\\n",
       "0      never    66.0               medicine / health   \n",
       "1      never    68.0                           other   \n",
       "2  sometimes    69.0                           other   \n",
       "3  sometimes    68.0  computer / hardware / software   \n",
       "4  sometimes    68.0                           other   \n",
       "\n",
       "                    location                       pets     smokes  \\\n",
       "0        oakland, california  likes dogs and likes cats         no   \n",
       "1  pleasant hill, california                 likes dogs         no   \n",
       "2        oakland, california    has dogs and likes cats  sometimes   \n",
       "3      daly city, california  likes dogs and likes cats         no   \n",
       "4        oakland, california  likes dogs and likes cats        yes   \n",
       "\n",
       "                                            language   new_languages  \\\n",
       "0  english (fluently), spanish (poorly), sign lan...      interested   \n",
       "1  english (fluently), tagalog (okay), french (po...      interested   \n",
       "2  english (fluently), sign language (poorly), fr...      interested   \n",
       "3                                            english  not interested   \n",
       "4                                            english  not interested   \n",
       "\n",
       "  body_profile  education_level dropped_out  \\\n",
       "0     athletic              4.0          no   \n",
       "1          fit              3.0          no   \n",
       "2          fit              2.0          no   \n",
       "3      average              3.0          no   \n",
       "4      average              2.0         yes   \n",
       "\n",
       "                                                 bio location_preference  \n",
       "0  bottom line i love life! i work hard and i lov...          same state  \n",
       "1  i'm a straightforward, genuine, fun loving (i'...            anywhere  \n",
       "2  mmmmm yummy tacosss. yoga is where it's at. i ...           same city  \n",
       "3  i'm a stealth geek. that special mix of techni...           same city  \n",
       "4  with the whisper of the wind i was weaved into...           same city  "
      ]
     },
     "execution_count": 6,
     "metadata": {},
     "output_type": "execute_result"
    }
   ],
   "source": [
    "tinder_df.head()"
   ]
  },
  {
   "cell_type": "markdown",
   "id": "cd48c20f",
   "metadata": {},
   "source": [
    "#### Exploratory Data Analysis of the Dataset"
   ]
  },
  {
   "cell_type": "code",
   "execution_count": 7,
   "id": "45919ab9",
   "metadata": {},
   "outputs": [
    {
     "data": {
      "text/plain": [
       "(2001, 20)"
      ]
     },
     "execution_count": 7,
     "metadata": {},
     "output_type": "execute_result"
    }
   ],
   "source": [
    "tinder_df.shape"
   ]
  },
  {
   "cell_type": "code",
   "execution_count": 9,
   "id": "76c768ff",
   "metadata": {},
   "outputs": [
    {
     "name": "stdout",
     "output_type": "stream",
     "text": [
      "<class 'pandas.core.frame.DataFrame'>\n",
      "RangeIndex: 2001 entries, 0 to 2000\n",
      "Data columns (total 20 columns):\n",
      " #   Column               Non-Null Count  Dtype  \n",
      "---  ------               --------------  -----  \n",
      " 0   user_id              2001 non-null   object \n",
      " 1   username             2001 non-null   object \n",
      " 2   age                  2001 non-null   int64  \n",
      " 3   status               2001 non-null   object \n",
      " 4   sex                  2001 non-null   object \n",
      " 5   orientation          2001 non-null   object \n",
      " 6   drinks               2001 non-null   object \n",
      " 7   drugs                2001 non-null   object \n",
      " 8   height               2001 non-null   float64\n",
      " 9   job                  2001 non-null   object \n",
      " 10  location             2001 non-null   object \n",
      " 11  pets                 2001 non-null   object \n",
      " 12  smokes               2001 non-null   object \n",
      " 13  language             2001 non-null   object \n",
      " 14  new_languages        2001 non-null   object \n",
      " 15  body_profile         2001 non-null   object \n",
      " 16  education_level      2001 non-null   float64\n",
      " 17  dropped_out          2001 non-null   object \n",
      " 18  bio                  2001 non-null   object \n",
      " 19  location_preference  2001 non-null   object \n",
      "dtypes: float64(2), int64(1), object(17)\n",
      "memory usage: 312.8+ KB\n"
     ]
    }
   ],
   "source": [
    "tinder_df.info()"
   ]
  },
  {
   "cell_type": "code",
   "execution_count": 10,
   "id": "5790810f",
   "metadata": {},
   "outputs": [
    {
     "data": {
      "text/html": [
       "<div>\n",
       "<style scoped>\n",
       "    .dataframe tbody tr th:only-of-type {\n",
       "        vertical-align: middle;\n",
       "    }\n",
       "\n",
       "    .dataframe tbody tr th {\n",
       "        vertical-align: top;\n",
       "    }\n",
       "\n",
       "    .dataframe thead th {\n",
       "        text-align: right;\n",
       "    }\n",
       "</style>\n",
       "<table border=\"1\" class=\"dataframe\">\n",
       "  <thead>\n",
       "    <tr style=\"text-align: right;\">\n",
       "      <th></th>\n",
       "      <th>age</th>\n",
       "      <th>height</th>\n",
       "      <th>education_level</th>\n",
       "    </tr>\n",
       "  </thead>\n",
       "  <tbody>\n",
       "    <tr>\n",
       "      <th>count</th>\n",
       "      <td>2001.000000</td>\n",
       "      <td>2001.000000</td>\n",
       "      <td>2001.000000</td>\n",
       "    </tr>\n",
       "    <tr>\n",
       "      <th>mean</th>\n",
       "      <td>33.072464</td>\n",
       "      <td>68.289855</td>\n",
       "      <td>2.932534</td>\n",
       "    </tr>\n",
       "    <tr>\n",
       "      <th>std</th>\n",
       "      <td>10.483189</td>\n",
       "      <td>3.895246</td>\n",
       "      <td>0.812371</td>\n",
       "    </tr>\n",
       "    <tr>\n",
       "      <th>min</th>\n",
       "      <td>18.000000</td>\n",
       "      <td>55.000000</td>\n",
       "      <td>1.000000</td>\n",
       "    </tr>\n",
       "    <tr>\n",
       "      <th>25%</th>\n",
       "      <td>26.000000</td>\n",
       "      <td>65.000000</td>\n",
       "      <td>2.000000</td>\n",
       "    </tr>\n",
       "    <tr>\n",
       "      <th>50%</th>\n",
       "      <td>30.000000</td>\n",
       "      <td>68.000000</td>\n",
       "      <td>3.000000</td>\n",
       "    </tr>\n",
       "    <tr>\n",
       "      <th>75%</th>\n",
       "      <td>39.000000</td>\n",
       "      <td>71.000000</td>\n",
       "      <td>3.000000</td>\n",
       "    </tr>\n",
       "    <tr>\n",
       "      <th>max</th>\n",
       "      <td>69.000000</td>\n",
       "      <td>83.000000</td>\n",
       "      <td>5.000000</td>\n",
       "    </tr>\n",
       "  </tbody>\n",
       "</table>\n",
       "</div>"
      ],
      "text/plain": [
       "               age       height  education_level\n",
       "count  2001.000000  2001.000000      2001.000000\n",
       "mean     33.072464    68.289855         2.932534\n",
       "std      10.483189     3.895246         0.812371\n",
       "min      18.000000    55.000000         1.000000\n",
       "25%      26.000000    65.000000         2.000000\n",
       "50%      30.000000    68.000000         3.000000\n",
       "75%      39.000000    71.000000         3.000000\n",
       "max      69.000000    83.000000         5.000000"
      ]
     },
     "execution_count": 10,
     "metadata": {},
     "output_type": "execute_result"
    }
   ],
   "source": [
    "tinder_df.describe()"
   ]
  },
  {
   "cell_type": "code",
   "execution_count": 11,
   "id": "99917190",
   "metadata": {},
   "outputs": [
    {
     "data": {
      "text/plain": [
       "user_id                2001\n",
       "username               1995\n",
       "age                      52\n",
       "status                    4\n",
       "sex                       2\n",
       "orientation               3\n",
       "drinks                    6\n",
       "drugs                     3\n",
       "height                   25\n",
       "job                      21\n",
       "location                 70\n",
       "pets                     15\n",
       "smokes                    5\n",
       "language                575\n",
       "new_languages             3\n",
       "body_profile             12\n",
       "education_level           5\n",
       "dropped_out               2\n",
       "bio                    2001\n",
       "location_preference       3\n",
       "dtype: int64"
      ]
     },
     "execution_count": 11,
     "metadata": {},
     "output_type": "execute_result"
    }
   ],
   "source": [
    "tinder_df.nunique()"
   ]
  },
  {
   "cell_type": "markdown",
   "id": "9912ef05",
   "metadata": {},
   "source": [
    "#### Data Wrangling\n",
    "###### In data wrangling, we process and transform the data to get the most useful and better structure out of it"
   ]
  },
  {
   "cell_type": "code",
   "execution_count": 14,
   "id": "be81dcdd",
   "metadata": {},
   "outputs": [
    {
     "data": {
      "text/html": [
       "<div>\n",
       "<style scoped>\n",
       "    .dataframe tbody tr th:only-of-type {\n",
       "        vertical-align: middle;\n",
       "    }\n",
       "\n",
       "    .dataframe tbody tr th {\n",
       "        vertical-align: top;\n",
       "    }\n",
       "\n",
       "    .dataframe thead th {\n",
       "        text-align: right;\n",
       "    }\n",
       "</style>\n",
       "<table border=\"1\" class=\"dataframe\">\n",
       "  <thead>\n",
       "    <tr style=\"text-align: right;\">\n",
       "      <th></th>\n",
       "      <th>sex</th>\n",
       "      <th>drugs</th>\n",
       "      <th>unique_drug_count</th>\n",
       "    </tr>\n",
       "  </thead>\n",
       "  <tbody>\n",
       "    <tr>\n",
       "      <th>0</th>\n",
       "      <td>f</td>\n",
       "      <td>never</td>\n",
       "      <td>711</td>\n",
       "    </tr>\n",
       "    <tr>\n",
       "      <th>1</th>\n",
       "      <td>f</td>\n",
       "      <td>often</td>\n",
       "      <td>5</td>\n",
       "    </tr>\n",
       "    <tr>\n",
       "      <th>2</th>\n",
       "      <td>f</td>\n",
       "      <td>sometimes</td>\n",
       "      <td>146</td>\n",
       "    </tr>\n",
       "    <tr>\n",
       "      <th>3</th>\n",
       "      <td>m</td>\n",
       "      <td>never</td>\n",
       "      <td>875</td>\n",
       "    </tr>\n",
       "    <tr>\n",
       "      <th>4</th>\n",
       "      <td>m</td>\n",
       "      <td>often</td>\n",
       "      <td>13</td>\n",
       "    </tr>\n",
       "    <tr>\n",
       "      <th>5</th>\n",
       "      <td>m</td>\n",
       "      <td>sometimes</td>\n",
       "      <td>251</td>\n",
       "    </tr>\n",
       "  </tbody>\n",
       "</table>\n",
       "</div>"
      ],
      "text/plain": [
       "  sex      drugs  unique_drug_count\n",
       "0   f      never                711\n",
       "1   f      often                  5\n",
       "2   f  sometimes                146\n",
       "3   m      never                875\n",
       "4   m      often                 13\n",
       "5   m  sometimes                251"
      ]
     },
     "execution_count": 14,
     "metadata": {},
     "output_type": "execute_result"
    }
   ],
   "source": [
    "tinder_df.groupby(['sex', 'drugs'])['drugs'].count().reset_index(name='unique_drug_count') "
   ]
  },
  {
   "cell_type": "code",
   "execution_count": 15,
   "id": "6c7ff9b7",
   "metadata": {},
   "outputs": [
    {
     "data": {
      "text/html": [
       "<div>\n",
       "<style scoped>\n",
       "    .dataframe tbody tr th:only-of-type {\n",
       "        vertical-align: middle;\n",
       "    }\n",
       "\n",
       "    .dataframe tbody tr th {\n",
       "        vertical-align: top;\n",
       "    }\n",
       "\n",
       "    .dataframe thead th {\n",
       "        text-align: right;\n",
       "    }\n",
       "</style>\n",
       "<table border=\"1\" class=\"dataframe\">\n",
       "  <thead>\n",
       "    <tr style=\"text-align: right;\">\n",
       "      <th></th>\n",
       "      <th>new_languages</th>\n",
       "      <th>dropped_out</th>\n",
       "      <th>drop_out_people count</th>\n",
       "    </tr>\n",
       "  </thead>\n",
       "  <tbody>\n",
       "    <tr>\n",
       "      <th>0</th>\n",
       "      <td>interested</td>\n",
       "      <td>no</td>\n",
       "      <td>594</td>\n",
       "    </tr>\n",
       "    <tr>\n",
       "      <th>1</th>\n",
       "      <td>interested</td>\n",
       "      <td>yes</td>\n",
       "      <td>39</td>\n",
       "    </tr>\n",
       "    <tr>\n",
       "      <th>2</th>\n",
       "      <td>not interested</td>\n",
       "      <td>no</td>\n",
       "      <td>999</td>\n",
       "    </tr>\n",
       "    <tr>\n",
       "      <th>3</th>\n",
       "      <td>not interested</td>\n",
       "      <td>yes</td>\n",
       "      <td>51</td>\n",
       "    </tr>\n",
       "    <tr>\n",
       "      <th>4</th>\n",
       "      <td>somewhat interested</td>\n",
       "      <td>no</td>\n",
       "      <td>305</td>\n",
       "    </tr>\n",
       "    <tr>\n",
       "      <th>5</th>\n",
       "      <td>somewhat interested</td>\n",
       "      <td>yes</td>\n",
       "      <td>13</td>\n",
       "    </tr>\n",
       "  </tbody>\n",
       "</table>\n",
       "</div>"
      ],
      "text/plain": [
       "         new_languages dropped_out  drop_out_people count\n",
       "0           interested          no                    594\n",
       "1           interested         yes                     39\n",
       "2       not interested          no                    999\n",
       "3       not interested         yes                     51\n",
       "4  somewhat interested          no                    305\n",
       "5  somewhat interested         yes                     13"
      ]
     },
     "execution_count": 15,
     "metadata": {},
     "output_type": "execute_result"
    }
   ],
   "source": [
    "tinder_df.groupby(['new_languages', 'dropped_out'])['dropped_out'].count().reset_index(name='drop_out_people count')"
   ]
  },
  {
   "cell_type": "markdown",
   "id": "6844e908",
   "metadata": {},
   "source": [
    "#### Data Visualization"
   ]
  },
  {
   "cell_type": "code",
   "execution_count": 18,
   "id": "3357c554",
   "metadata": {},
   "outputs": [
    {
     "data": {
      "text/plain": [
       "<AxesSubplot:xlabel='age', ylabel='Count'>"
      ]
     },
     "execution_count": 18,
     "metadata": {},
     "output_type": "execute_result"
    },
    {
     "data": {
      "image/png": "[encoded data removed]",
      "text/plain": [
       "<Figure size 640x480 with 1 Axes>"
      ]
     },
     "metadata": {},
     "output_type": "display_data"
    }
   ],
   "source": [
    "# distribution of age \n",
    "sns.histplot(tinder_df[\"age\"], kde=True)"
   ]
  },
  {
   "cell_type": "markdown",
   "id": "b4a30b9d",
   "metadata": {},
   "source": [
    "The age column has a long tail which shows it has a deviation from a normal distribution."
   ]
  },
  {
   "cell_type": "code",
   "execution_count": 19,
   "id": "e6137455",
   "metadata": {},
   "outputs": [
    {
     "data": {
      "text/plain": [
       "<AxesSubplot:xlabel='height', ylabel='Count'>"
      ]
     },
     "execution_count": 19,
     "metadata": {},
     "output_type": "execute_result"
    },
    {
     "data": {
      "image/png": "[encoded data removed]",
      "text/plain": [
       "<Figure size 640x480 with 1 Axes>"
      ]
     },
     "metadata": {},
     "output_type": "display_data"
    }
   ],
   "source": [
    "sns.histplot(tinder_df[\"height\"], kde=True)"
   ]
  },
  {
   "cell_type": "code",
   "execution_count": 20,
   "id": "59cc88e5",
   "metadata": {},
   "outputs": [
    {
     "data": {
      "image/png": "[encoded data removed]",
      "text/plain": [
       "<Figure size 600x600 with 1 Axes>"
      ]
     },
     "metadata": {},
     "output_type": "display_data"
    }
   ],
   "source": [
    "# Set the size of the figure to 10 inches \n",
    "# wide by 8 inches tall \n",
    "plt.figure(figsize=(6, 6)) \n",
    "  \n",
    "# Divide the data into categories \n",
    "bins = [18, 30, 40, 50, 60, 70] \n",
    "  \n",
    "# Use the `cut` function to assign \n",
    "# each data point to a category \n",
    "categories = pd.cut(tinder_df[\"age\"], bins, \n",
    "                    labels=[\"18-30\", \"30-40\", \n",
    "                            \"40-50\", \"50-60\", \"60-70\"]) \n",
    "  \n",
    "# Count the number of data points in each category \n",
    "counts = categories.value_counts() \n",
    "  \n",
    "# Plot the data as a pie chart \n",
    "plt.pie(counts, labels=counts.index, autopct='%1.1f%%') \n",
    "plt.show()"
   ]
  },
  {
   "cell_type": "markdown",
   "id": "d805a164",
   "metadata": {},
   "source": [
    "###### We can use the Histplot function from Seaborn to create a graph that shows the count of people in a particular job."
   ]
  },
  {
   "cell_type": "code",
   "execution_count": 23,
   "id": "df8ecd94",
   "metadata": {},
   "outputs": [
    {
     "data": {
      "image/png": "[encoded data removed]",
      "text/plain": [
       "<Figure size 600x600 with 1 Axes>"
      ]
     },
     "metadata": {},
     "output_type": "display_data"
    }
   ],
   "source": [
    "plt.figure(figsize=(6, 6)) \n",
    "sns.histplot(x=\"job\", data=tinder_df, color=\"coral\") \n",
    "\n",
    "# rotate x-axis labels vertically \n",
    "plt.xticks(rotation=90) \n",
    "plt.title(\"Distribution of job of each candidate\", fontsize=14) \n",
    "\n",
    "plt.xlabel(\"Job id\", fontsize=12) \n",
    "plt.ylabel(\"Count of people\", fontsize=12) \n",
    "\n",
    "plt.show() \n"
   ]
  },
  {
   "cell_type": "code",
   "execution_count": 25,
   "id": "25a8bf6f",
   "metadata": {},
   "outputs": [
    {
     "data": {
      "image/png": "[encoded data removed]",
      "text/plain": [
       "<Figure size 600x600 with 1 Axes>"
      ]
     },
     "metadata": {},
     "output_type": "display_data"
    }
   ],
   "source": [
    "plt.figure(figsize=(6, 6)) \n",
    "sns.histplot(x=\"sex\", data=tinder_df, color=\"coral\") \n",
    "\n",
    "# rotate x-axis labels vertically \n",
    "plt.xticks(rotation=90) \n",
    "plt.title(\"Distribution of sex of each candidate\", fontsize=14) \n",
    "\n",
    "plt.xlabel(\"Sex id\", fontsize=12) \n",
    "plt.ylabel(\"Count of people\", fontsize=12) \n",
    "\n",
    "plt.show() "
   ]
  },
  {
   "cell_type": "markdown",
   "id": "3f231539",
   "metadata": {},
   "source": [
    "#### Data Manipulation "
   ]
  },
  {
   "cell_type": "code",
   "execution_count": 26,
   "id": "ba3f51fa",
   "metadata": {},
   "outputs": [
    {
     "data": {
      "text/plain": [
       "array([ True])"
      ]
     },
     "execution_count": 26,
     "metadata": {},
     "output_type": "execute_result"
    }
   ],
   "source": [
    "# check if every row has a \n",
    "# common language as english \n",
    "tinder_df['language'].str.contains('english').unique()"
   ]
  },
  {
   "cell_type": "markdown",
   "id": "ab2fcd1c",
   "metadata": {},
   "source": [
    "Since there are 571 unique rows in the language column and every row has English as the column language. It will create a very sparse matrix if we do one-hot encoding of the language column so we will create another column that counts the number of unique languages that a person knows and eventually, we drop the language column."
   ]
  },
  {
   "cell_type": "code",
   "execution_count": 27,
   "id": "169a33c7",
   "metadata": {},
   "outputs": [],
   "source": [
    "# count the number of languages in each row \n",
    "tinder_df['num_languages'] = tinder_df['language'].str.count(',') + 1\n",
    "tinder_df.drop([\"language\"], axis=1, inplace=True) "
   ]
  },
  {
   "cell_type": "code",
   "execution_count": 30,
   "id": "16a158c3",
   "metadata": {},
   "outputs": [
    {
     "data": {
      "text/plain": [
       "array([3, 4, 1, 2, 5], dtype=int64)"
      ]
     },
     "execution_count": 30,
     "metadata": {},
     "output_type": "execute_result"
    }
   ],
   "source": [
    "tinder_df['num_languages'].unique()"
   ]
  },
  {
   "cell_type": "code",
   "execution_count": 31,
   "id": "45c191c9",
   "metadata": {},
   "outputs": [],
   "source": [
    "# To encode location preference we will assign a number to each location’s preferred place like anywhere \n",
    "# giving the lowest preference to 1 and the same city having the highest preference to equal 2.5.\n",
    "place_type_strength = { \n",
    "    'anywhere': 1.0, \n",
    "    'same state': 2.0, \n",
    "    'same city': 2.5\n",
    "} \n",
    "  \n",
    "tinder_df['location_preference'] = tinder_df['location_preference'].apply(lambda x: place_type_strength[x]) "
   ]
  },
  {
   "cell_type": "code",
   "execution_count": 32,
   "id": "17e94b16",
   "metadata": {},
   "outputs": [
    {
     "data": {
      "text/plain": [
       "0       2.0\n",
       "1       1.0\n",
       "2       2.5\n",
       "3       2.5\n",
       "4       2.5\n",
       "       ... \n",
       "1996    2.5\n",
       "1997    2.0\n",
       "1998    1.0\n",
       "1999    2.5\n",
       "2000    1.0\n",
       "Name: location_preference, Length: 2001, dtype: float64"
      ]
     },
     "execution_count": 32,
     "metadata": {},
     "output_type": "execute_result"
    }
   ],
   "source": [
    "tinder_df['location_preference']"
   ]
  },
  {
   "cell_type": "code",
   "execution_count": 33,
   "id": "2862167e",
   "metadata": {},
   "outputs": [],
   "source": [
    "#We can easily handle columns that have only two unique categorical values by label encoding.\n",
    "two_unique_values_column = { \n",
    "    'sex': {'f': 1, 'm': 0}, \n",
    "    'dropped_out': {'no': 0, 'yes': 1} \n",
    "} \n",
    "  \n",
    "tinder_df.replace(two_unique_values_column, inplace=True)"
   ]
  },
  {
   "cell_type": "code",
   "execution_count": 34,
   "id": "bd06e6fa",
   "metadata": {},
   "outputs": [],
   "source": [
    "# We will divide all four distinct elements into two parts.\n",
    "#     Either he is single or available.\n",
    "#     Either he is married or seeing someone higher weight is given to the people who are single or available.\n",
    "status_type_strength = { \n",
    "    'single': 2.0, \n",
    "    'available': 2.0, \n",
    "    'seeing someone': 1.0, \n",
    "    'married': 1.0\n",
    "} \n",
    "tinder_df['status'] = tinder_df['status'].apply(lambda x: status_type_strength[x]) "
   ]
  },
  {
   "cell_type": "code",
   "execution_count": 36,
   "id": "a8650f66",
   "metadata": {},
   "outputs": [],
   "source": [
    "from sklearn.preprocessing import LabelEncoder\n",
    "# create a LabelEncoder object \n",
    "orientation_encoder = LabelEncoder() \n",
    "  \n",
    "# fit the encoder on the orientation column \n",
    "orientation_encoder.fit(tinder_df['orientation']) \n",
    "  \n",
    "# encode the orientation column using the fitted encoder \n",
    "tinder_df['orientation'] = orientation_encoder.transform(tinder_df['orientation']) \n",
    "  \n",
    "# Drop the existing orientation column \n",
    "tinder_df.drop(\"orientation\", axis=1, inplace=True)"
   ]
  },
  {
   "cell_type": "code",
   "execution_count": 37,
   "id": "1061e4ac",
   "metadata": {},
   "outputs": [],
   "source": [
    "drinking_habit = { \n",
    "    'socially': 'sometimes', \n",
    "    'rarely': 'sometimes', \n",
    "    'not at all': 'do not drink', \n",
    "    'often': 'drinks often', \n",
    "    'very often': 'drinks often', \n",
    "    'desperately': 'drinks often'\n",
    "} \n",
    "tinder_df['drinks'] = tinder_df['drinks'].apply(lambda x: drinking_habit[x]) \n",
    "# create a LabelEncoder object \n",
    "habit_encoder = LabelEncoder() \n",
    "  \n",
    "# fit the encoder on the drinks and drugs columns \n",
    "habit_encoder.fit(tinder_df[['drinks', 'drugs']] .values.reshape(-1)) \n",
    "  \n",
    "# encode the drinks and drugs columns \n",
    "# using the fitted encoder \n",
    "tinder_df['drinks_encoded'] = habit_encoder.transform(tinder_df['drinks']) \n",
    "tinder_df['drugs_encoded'] = habit_encoder.transform(tinder_df['drugs']) \n",
    "  \n",
    "# Drop the existing drink and drugs column \n",
    "tinder_df.drop([\"drinks\", \"drugs\"], axis=1, inplace=True) "
   ]
  },
  {
   "cell_type": "code",
   "execution_count": 38,
   "id": "0710918d",
   "metadata": {},
   "outputs": [
    {
     "data": {
      "text/html": [
       "<div>\n",
       "<style scoped>\n",
       "    .dataframe tbody tr th:only-of-type {\n",
       "        vertical-align: middle;\n",
       "    }\n",
       "\n",
       "    .dataframe tbody tr th {\n",
       "        vertical-align: top;\n",
       "    }\n",
       "\n",
       "    .dataframe thead th {\n",
       "        text-align: right;\n",
       "    }\n",
       "</style>\n",
       "<table border=\"1\" class=\"dataframe\">\n",
       "  <thead>\n",
       "    <tr style=\"text-align: right;\">\n",
       "      <th></th>\n",
       "      <th>user_id</th>\n",
       "      <th>username</th>\n",
       "      <th>age</th>\n",
       "      <th>status</th>\n",
       "      <th>sex</th>\n",
       "      <th>height</th>\n",
       "      <th>job</th>\n",
       "      <th>location</th>\n",
       "      <th>pets</th>\n",
       "      <th>smokes</th>\n",
       "      <th>new_languages</th>\n",
       "      <th>body_profile</th>\n",
       "      <th>education_level</th>\n",
       "      <th>dropped_out</th>\n",
       "      <th>bio</th>\n",
       "      <th>location_preference</th>\n",
       "      <th>num_languages</th>\n",
       "      <th>drinks_encoded</th>\n",
       "      <th>drugs_encoded</th>\n",
       "    </tr>\n",
       "  </thead>\n",
       "  <tbody>\n",
       "    <tr>\n",
       "      <th>0</th>\n",
       "      <td>fffe3100</td>\n",
       "      <td>Edith Lopez</td>\n",
       "      <td>27</td>\n",
       "      <td>2.0</td>\n",
       "      <td>1</td>\n",
       "      <td>66.0</td>\n",
       "      <td>medicine / health</td>\n",
       "      <td>oakland, california</td>\n",
       "      <td>likes dogs and likes cats</td>\n",
       "      <td>no</td>\n",
       "      <td>interested</td>\n",
       "      <td>athletic</td>\n",
       "      <td>4.0</td>\n",
       "      <td>0</td>\n",
       "      <td>bottom line i love life! i work hard and i lov...</td>\n",
       "      <td>2.0</td>\n",
       "      <td>3</td>\n",
       "      <td>4</td>\n",
       "      <td>2</td>\n",
       "    </tr>\n",
       "    <tr>\n",
       "      <th>1</th>\n",
       "      <td>fffe3200</td>\n",
       "      <td>Travis Young</td>\n",
       "      <td>26</td>\n",
       "      <td>2.0</td>\n",
       "      <td>0</td>\n",
       "      <td>68.0</td>\n",
       "      <td>other</td>\n",
       "      <td>pleasant hill, california</td>\n",
       "      <td>likes dogs</td>\n",
       "      <td>no</td>\n",
       "      <td>interested</td>\n",
       "      <td>fit</td>\n",
       "      <td>3.0</td>\n",
       "      <td>0</td>\n",
       "      <td>i'm a straightforward, genuine, fun loving (i'...</td>\n",
       "      <td>1.0</td>\n",
       "      <td>3</td>\n",
       "      <td>4</td>\n",
       "      <td>2</td>\n",
       "    </tr>\n",
       "    <tr>\n",
       "      <th>2</th>\n",
       "      <td>fffe3300</td>\n",
       "      <td>Agnes Smith</td>\n",
       "      <td>20</td>\n",
       "      <td>1.0</td>\n",
       "      <td>1</td>\n",
       "      <td>69.0</td>\n",
       "      <td>other</td>\n",
       "      <td>oakland, california</td>\n",
       "      <td>has dogs and likes cats</td>\n",
       "      <td>sometimes</td>\n",
       "      <td>interested</td>\n",
       "      <td>fit</td>\n",
       "      <td>2.0</td>\n",
       "      <td>0</td>\n",
       "      <td>mmmmm yummy tacosss. yoga is where it's at. i ...</td>\n",
       "      <td>2.5</td>\n",
       "      <td>4</td>\n",
       "      <td>4</td>\n",
       "      <td>4</td>\n",
       "    </tr>\n",
       "    <tr>\n",
       "      <th>3</th>\n",
       "      <td>fffe3400</td>\n",
       "      <td>Salvador Klaver</td>\n",
       "      <td>27</td>\n",
       "      <td>2.0</td>\n",
       "      <td>0</td>\n",
       "      <td>68.0</td>\n",
       "      <td>computer / hardware / software</td>\n",
       "      <td>daly city, california</td>\n",
       "      <td>likes dogs and likes cats</td>\n",
       "      <td>no</td>\n",
       "      <td>not interested</td>\n",
       "      <td>average</td>\n",
       "      <td>3.0</td>\n",
       "      <td>0</td>\n",
       "      <td>i'm a stealth geek. that special mix of techni...</td>\n",
       "      <td>2.5</td>\n",
       "      <td>1</td>\n",
       "      <td>4</td>\n",
       "      <td>4</td>\n",
       "    </tr>\n",
       "    <tr>\n",
       "      <th>4</th>\n",
       "      <td>fffe3500</td>\n",
       "      <td>Elana Sewell</td>\n",
       "      <td>22</td>\n",
       "      <td>2.0</td>\n",
       "      <td>1</td>\n",
       "      <td>68.0</td>\n",
       "      <td>other</td>\n",
       "      <td>oakland, california</td>\n",
       "      <td>likes dogs and likes cats</td>\n",
       "      <td>yes</td>\n",
       "      <td>not interested</td>\n",
       "      <td>average</td>\n",
       "      <td>2.0</td>\n",
       "      <td>1</td>\n",
       "      <td>with the whisper of the wind i was weaved into...</td>\n",
       "      <td>2.5</td>\n",
       "      <td>1</td>\n",
       "      <td>1</td>\n",
       "      <td>4</td>\n",
       "    </tr>\n",
       "  </tbody>\n",
       "</table>\n",
       "</div>"
      ],
      "text/plain": [
       "    user_id         username  age  status  sex  height  \\\n",
       "0  fffe3100      Edith Lopez   27     2.0    1    66.0   \n",
       "1  fffe3200     Travis Young   26     2.0    0    68.0   \n",
       "2  fffe3300      Agnes Smith   20     1.0    1    69.0   \n",
       "3  fffe3400  Salvador Klaver   27     2.0    0    68.0   \n",
       "4  fffe3500     Elana Sewell   22     2.0    1    68.0   \n",
       "\n",
       "                              job                   location  \\\n",
       "0               medicine / health        oakland, california   \n",
       "1                           other  pleasant hill, california   \n",
       "2                           other        oakland, california   \n",
       "3  computer / hardware / software      daly city, california   \n",
       "4                           other        oakland, california   \n",
       "\n",
       "                        pets     smokes   new_languages body_profile  \\\n",
       "0  likes dogs and likes cats         no      interested     athletic   \n",
       "1                 likes dogs         no      interested          fit   \n",
       "2    has dogs and likes cats  sometimes      interested          fit   \n",
       "3  likes dogs and likes cats         no  not interested      average   \n",
       "4  likes dogs and likes cats        yes  not interested      average   \n",
       "\n",
       "   education_level  dropped_out  \\\n",
       "0              4.0            0   \n",
       "1              3.0            0   \n",
       "2              2.0            0   \n",
       "3              3.0            0   \n",
       "4              2.0            1   \n",
       "\n",
       "                                                 bio  location_preference  \\\n",
       "0  bottom line i love life! i work hard and i lov...                  2.0   \n",
       "1  i'm a straightforward, genuine, fun loving (i'...                  1.0   \n",
       "2  mmmmm yummy tacosss. yoga is where it's at. i ...                  2.5   \n",
       "3  i'm a stealth geek. that special mix of techni...                  2.5   \n",
       "4  with the whisper of the wind i was weaved into...                  2.5   \n",
       "\n",
       "   num_languages  drinks_encoded  drugs_encoded  \n",
       "0              3               4              2  \n",
       "1              3               4              2  \n",
       "2              4               4              4  \n",
       "3              1               4              4  \n",
       "4              1               1              4  "
      ]
     },
     "execution_count": 38,
     "metadata": {},
     "output_type": "execute_result"
    }
   ],
   "source": [
    "tinder_df.head()"
   ]
  },
  {
   "cell_type": "code",
   "execution_count": 40,
   "id": "4e602cb6",
   "metadata": {},
   "outputs": [],
   "source": [
    "from sklearn.preprocessing import OneHotEncoder"
   ]
  },
  {
   "cell_type": "code",
   "execution_count": 41,
   "id": "1cba1461",
   "metadata": {},
   "outputs": [],
   "source": [
    "region_dict = {'southern_california': ['los angeles', \n",
    "                         'san diego', 'hacienda heights', \n",
    "                         'north hollywood', 'phoenix'], \n",
    "               'new_york': ['brooklyn', \n",
    "                            'new york']} \n",
    "  \n",
    "def get_region(city): \n",
    "    for region, cities in region_dict.items(): \n",
    "        if city.lower() in [c.lower() for c in cities]: \n",
    "            return region \n",
    "    return \"northern_california\"\n",
    "  \n",
    "  \n",
    "tinder_df['location'] = tinder_df['location'].str.split(', ').str[0].apply(get_region) \n",
    "# perform one hot encoding \n",
    "location_encoder = OneHotEncoder() \n",
    "  \n",
    "# fit and transform the location column \n",
    "location_encoded = location_encoder.fit_transform(tinder_df[['location']]) \n",
    "  \n",
    "# create a new DataFrame with the encoded columns \n",
    "location_encoded_df = pd.DataFrame(location_encoded.toarray(), columns=location_encoder.get_feature_names_out(['location'])) \n",
    "  \n",
    "# concatenate the new DataFrame with the original DataFrame \n",
    "tinder_df = pd.concat([tinder_df, location_encoded_df], axis=1) \n",
    "# Drop the existing location column \n",
    "tinder_df.drop([\"location\"], axis=1, inplace=True) "
   ]
  },
  {
   "cell_type": "code",
   "execution_count": 42,
   "id": "80a9761b",
   "metadata": {},
   "outputs": [],
   "source": [
    "# create a LabelEncoder object \n",
    "job_encoder = LabelEncoder() \n",
    "  \n",
    "# fit the encoder on the job column \n",
    "job_encoder.fit(tinder_df['job']) \n",
    "  \n",
    "# encode the job column using the fitted encoder \n",
    "tinder_df['job_encoded'] = job_encoder.transform(tinder_df['job']) \n",
    "  \n",
    "# drop the original job column \n",
    "tinder_df.drop('job', axis=1, inplace=True) "
   ]
  },
  {
   "cell_type": "code",
   "execution_count": 43,
   "id": "8df24d90",
   "metadata": {},
   "outputs": [],
   "source": [
    "smokes = { \n",
    "   'no': 1.0, \n",
    "   'sometimes': 0,  \n",
    "   'yes': 0, \n",
    "   'when drinking':0, \n",
    "   'trying to quit':0\n",
    "} \n",
    "tinder_df['smokes'] = tinder_df['smokes'].apply(lambda x: smokes[x])"
   ]
  },
  {
   "cell_type": "code",
   "execution_count": 44,
   "id": "cb6ec80c",
   "metadata": {},
   "outputs": [],
   "source": [
    "# For the pets column, we will do Binary encoding.\n",
    "bin_enc = ce.BinaryEncoder(cols=['pets']) \n",
    "  \n",
    "# fit and transform the pet column \n",
    "pet_enc = bin_enc.fit_transform(tinder_df['pets']) \n",
    "  \n",
    "# add the encoded columns to the original dataframe \n",
    "tinder_df = pd.concat([tinder_df, pet_enc], axis=1) \n",
    "  \n",
    "tinder_df.drop(\"pets\",axis=1,inplace = True) "
   ]
  },
  {
   "cell_type": "code",
   "execution_count": 45,
   "id": "e85e8c77",
   "metadata": {},
   "outputs": [],
   "source": [
    "# For the new_language and body_profile columns, we will simply do One-Hot encoding. \n",
    "# create a LabelEncoder object \n",
    "location_encoder = LabelEncoder() \n",
    "\n",
    "# fit the encoder on the job column \n",
    "location_encoder.fit(tinder_df['new_languages']) \n",
    "\n",
    "# encode the job column using the fitted encoder \n",
    "tinder_df['new_languages'] = location_encoder.transform(tinder_df['new_languages']) \n",
    "\n",
    "# create an instance of LabelEncoder \n",
    "le = LabelEncoder() \n",
    "\n",
    "# encode the body_profile column \n",
    "tinder_df[\"body_profile\"] = le.fit_transform(tinder_df[\"body_profile\"]) \n"
   ]
  },
  {
   "cell_type": "markdown",
   "id": "56e43633",
   "metadata": {},
   "source": [
    "#### Data Modelling "
   ]
  },
  {
   "cell_type": "markdown",
   "id": "d42d992c",
   "metadata": {},
   "source": [
    "In data modeling, we will first use TfidfVectorizer from the sklearn package to convert bio-categorical object Dtype into the numerical column. Note that output from the tfidVectorizer is a sparse matrix so here we will use SVD (Singular Value Decomposition) to reduce the dimensionality of the matrix.\n",
    "For the purpose of finding a similarity between the user and our current present profile, we will use cosine similarity between the user and stored profile.\n",
    "This is a content-based filtering algorithm in which we are using the user’s profile information to recommend other profiles with similar characteristics. This algorithm recommends the profiles which have the highest cosine similarity score with the user."
   ]
  },
  {
   "cell_type": "code",
   "execution_count": 46,
   "id": "aee99a65",
   "metadata": {},
   "outputs": [],
   "source": [
    "# Initialize TfidfVectorizer object \n",
    "tfidf = TfidfVectorizer(stop_words='english') \n",
    "  \n",
    "# Fit and transform the text data \n",
    "tfidf_matrix = tfidf.fit_transform(tinder_df['bio']) \n",
    "  \n",
    "# Get the feature names from the TfidfVectorizer object \n",
    "feature_names = tfidf.vocabulary_ \n",
    "  \n",
    "# Convert tfidf matrix to DataFrame \n",
    "tfidf_df = pd.DataFrame(tfidf_matrix.toarray(), \n",
    "                        columns=feature_names) \n",
    "  \n",
    "# Add non-text features to the tfidf_df dataframe \n",
    "tinder_dfs = tinder_df.drop([\"bio\", \"user_id\", \n",
    "                             \"username\"], axis=1) \n",
    "tinder_dfs = pd.concat([tinder_dfs, \n",
    "                        tfidf_df], axis=1) \n",
    "# Apply SVD to the feature matrix \n",
    "svd = TruncatedSVD(n_components=100) \n",
    "svd_matrix = svd.fit_transform(tinder_dfs) \n",
    "  \n",
    "# Calculate the cosine similarity \n",
    "# between all pairs of users \n",
    "cosine_sim = cosine_similarity(svd_matrix)"
   ]
  },
  {
   "cell_type": "markdown",
   "id": "7f547944",
   "metadata": {},
   "source": [
    "#### Model Prediction"
   ]
  },
  {
   "cell_type": "code",
   "execution_count": 47,
   "id": "98f1a35b",
   "metadata": {},
   "outputs": [],
   "source": [
    "def recommend(user_df, num_recommendations=5): \n",
    "  \n",
    "    # Apply SVD to the feature \n",
    "    # matrix of the user_df dataframe \n",
    "    svd_matrixs = svd.transform(user_df) \n",
    "  \n",
    "    # Calculate the cosine similarity \n",
    "    # between the user_df and training set users \n",
    "    cosine_sim_new = cosine_similarity(svd_matrixs, svd_matrix) \n",
    "  \n",
    "    # Get the indices of the top \n",
    "    # num_recommendations similar users \n",
    "    sim_scores = list(enumerate(cosine_sim_new[0])) \n",
    "    sim_scores = sorted(sim_scores, \n",
    "                        key=lambda x: x[1], reverse=True) \n",
    "    sim_indices = [i[0] for i in\n",
    "                   sim_scores[1:num_recommendations+1]] \n",
    "  \n",
    "    # Return the user_ids of the recommended users \n",
    "    return tinder_df['username'].iloc[sim_indices] "
   ]
  },
  {
   "cell_type": "markdown",
   "id": "7997be7d",
   "metadata": {},
   "source": [
    "##### Next, we will take input from the user and convert it into a dataframe so that we can use this information to make new predictions."
   ]
  },
  {
   "cell_type": "code",
   "execution_count": 50,
   "id": "20d5b290",
   "metadata": {},
   "outputs": [
    {
     "name": "stdout",
     "output_type": "stream",
     "text": [
      "Enter age: 32\n",
      "Enter status: 2\n",
      "Enter sex (0 for female, 1 for male): 1\n",
      "Enter height in inches: 32\n",
      "Enter smokes (0 for no, 1 for yes): 0\n",
      "Enter number of new languages learned: 3\n",
      "Enter body profile (0-1)1\n",
      "Enter education level (1-5): 5\n",
      "Enter dropped out (0 for no, 1 for yes): 0\n",
      "Enter bio: I am a foodie and traveller. But sometimes like to sit alone in a  corner and read a good fiction.\n",
      "Enter location preference (0-2): 2\n",
      "Enter number of languages known: 4\n",
      "Enter drinks encoded (0-3): 2\n",
      "Enter drugs encoded (0-2): 1\n",
      "Enter location_new_york (0 or 1): 0\n",
      "Enter location_northern_california (0 or 1): 1\n",
      "Enter location_southern_california (0 or 1): 1\n",
      "Enter job encoded (0-9): 8\n",
      "Enter pets_0 (0 or 1): 1\n",
      "Enter pets_1 (0 or 1): 0\n",
      "Enter pets_2 (0 or 1): 0\n",
      "Enter pets_3 (0 or 1): 0\n"
     ]
    }
   ],
   "source": [
    "user_df = {} \n",
    "  \n",
    "# Get user input for numerical columns \n",
    "user_df['age'] = float(input(\"Enter age: \")) \n",
    "user_df['status'] = float(input(\"Enter status: \")) \n",
    "user_df['sex'] = float(input(\"Enter sex (0 for female, 1 for male): \")) \n",
    "user_df['height'] = float(input(\"Enter height in inches: \")) \n",
    "user_df['smokes'] = float(input(\"Enter smokes (0 for no, 1 for yes): \")) \n",
    "user_df['new_languages'] = float(input(\"Enter number of new languages learned: \")) \n",
    "user_df['body_profile'] = float(input(\"Enter body profile (0-1)\")) \n",
    "user_df['education_level'] = float(input(\"Enter education level (1-5): \")) \n",
    "user_df['dropped_out'] = float( \n",
    "    input(\"Enter dropped out (0 for no, 1 for yes): \")) \n",
    "user_df['bio'] = [input(\"Enter bio: \")] \n",
    "user_df['location_preference'] = float( \n",
    "    input(\"Enter location preference (0-2): \")) \n",
    "user_df['num_languages'] = float(input(\"Enter number of languages known: \")) \n",
    "user_df['drinks_encoded'] = float(input(\"Enter drinks encoded (0-3): \")) \n",
    "user_df['drugs_encoded'] = float(input(\"Enter drugs encoded (0-2): \")) \n",
    "  \n",
    "# Get user input for one-hot encoded categorical columns \n",
    "user_df['location_new_york'] = float( \n",
    "    input(\"Enter location_new_york (0 or 1): \")) \n",
    "user_df['location_northern_california'] = float( \n",
    "    input(\"Enter location_northern_california (0 or 1): \")) \n",
    "user_df['location_southern_california'] = float( \n",
    "    input(\"Enter location_southern_california (0 or 1): \")) \n",
    "user_df['job_encoded'] = float(input(\"Enter job encoded (0-9): \")) \n",
    "user_df['pets_0'] = float(input(\"Enter pets_0 (0 or 1): \")) \n",
    "user_df['pets_1'] = float(input(\"Enter pets_1 (0 or 1): \")) \n",
    "user_df['pets_2'] = float(input(\"Enter pets_2 (0 or 1): \")) \n",
    "user_df['pets_3'] = float(input(\"Enter pets_3 (0 or 1): \")) \n",
    "  \n",
    "# Convert tfidf matrix to DataFrame \n",
    "tfidf_df = pd.DataFrame(tfidf.transform( \n",
    "    user_df['bio']).toarray(), columns=feature_names) \n",
    "  \n",
    "# Convert the user input \n",
    "# dictionary to a Pandas DataFrame \n",
    "user_df = pd.DataFrame(user_df, index=[0]) \n",
    "user_df.drop(\"bio\", axis=1, inplace=True) \n",
    "user_df = pd.concat([user_df, tfidf_df], axis=1) "
   ]
  },
  {
   "cell_type": "code",
   "execution_count": 55,
   "id": "5df0c6cf",
   "metadata": {},
   "outputs": [
    {
     "name": "stdout",
     "output_type": "stream",
     "text": [
      "    age  status  sex  height  smokes  new_languages  body_profile  \\\n",
      "0  32.0     2.0  1.0    32.0     0.0            3.0           1.0   \n",
      "\n",
      "   education_level  dropped_out  location_preference  ...  homophobes  tween  \\\n",
      "0              5.0          0.0                  2.0  ...         0.0    0.0   \n",
      "\n",
      "   resonanting  avant  garde  unites  devoting  diversify  subsistence  \\\n",
      "0          0.0    0.0    0.0     0.0       0.0        0.0          0.0   \n",
      "\n",
      "   welness  \n",
      "0      0.0  \n",
      "\n",
      "[1 rows x 14196 columns]\n"
     ]
    }
   ],
   "source": [
    "print(user_df)"
   ]
  },
  {
   "cell_type": "code",
   "execution_count": null,
   "id": "f65e30a1",
   "metadata": {},
   "outputs": [],
   "source": []
  }
 ],
 "metadata": {
  "kernelspec": {
   "display_name": "Python 3 (ipykernel)",
   "language": "python",
   "name": "python3"
  },
  "language_info": {
   "codemirror_mode": {
    "name": "ipython",
    "version": 3
   },
   "file_extension": ".py",
   "mimetype": "text/x-python",
   "name": "python",
   "nbconvert_exporter": "python",
   "pygments_lexer": "ipython3",
   "version": "3.9.13"
  }
 },
 "nbformat": 4,
 "nbformat_minor": 5
}
